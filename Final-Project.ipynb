{
 "cells": [
  {
   "cell_type": "markdown",
   "metadata": {},
   "source": [
    "# Introduction\n",
    "Hello, everyone! This is team Optimal Anthill. You all know why we're here. We're determining the 'best' neighborhood in Pittsburgh. We began just by looking at what datasets were out there, and we thought about how valuable the information could potentially be. And we actually found datasets we liked before we had even thought of a metric because our data sets were very straightforward and representative of neighborhood aspects each of us deem important. So our search continued until we found a 2014 census report. It didn't exactly have the most up-to-date data, but it did contain data that was valuable to us.\n",
    "# The Metric\n",
    "Our metric is currently an amalgamation of each of our three individual metrics. These are Income, Education, and Race. We used different methods of determining which are the top 10 neighborhood in each category. Then, we gave 10 points to the number 1 neighborhood of each category, 9 points to the number 2 neighborhood, 8 points to number 3, and so on. The neighborhood that has the most points overall is declared the best neighborhood in Pittsburgh"
   ]
  },
  {
   "cell_type": "code",
   "execution_count": null,
   "metadata": {},
   "outputs": [],
   "source": []
  }
 ],
 "metadata": {
  "kernelspec": {
   "display_name": "Python 3",
   "language": "python",
   "name": "python3"
  },
  "language_info": {
   "codemirror_mode": {
    "name": "ipython",
    "version": 3
   },
   "file_extension": ".py",
   "mimetype": "text/x-python",
   "name": "python",
   "nbconvert_exporter": "python",
   "pygments_lexer": "ipython3",
   "version": "3.8.5"
  }
 },
 "nbformat": 4,
 "nbformat_minor": 4
}
