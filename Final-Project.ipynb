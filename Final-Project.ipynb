{
 "cells": [
  {
   "cell_type": "markdown",
   "metadata": {},
   "source": [
    "# Introduction\n",
    "Hello, everyone! This is team Optimal Anthill. You all know why we're here. We're determining the 'best' neighborhood in Pittsburgh. We began just by looking at what datasets were out there, and we thought about how valuable the information could potentially be. And we actually found datasets we liked before we had even thought of a metric because our data sets were very straightforward and representative of neighborhood aspects each of us deem important. So our search continued until we found a 2014 census report. It didn't exactly have the most up-to-date data, but it did contain data that was valuable to us.\n",
    "# The Metric\n",
    "Our metric is currently an amalgamation of each of our three individual metrics. These are Income, Education, and Race. We used different methods of determining which are the top 10 neighborhood in each category. Then, we gave 10 points to the number 1 neighborhood of each category, 9 points to the number 2 neighborhood, 8 points to number 3, and so on. The neighborhood that has the most points overall is declared the best neighborhood in Pittsburgh\n",
    "# The Best Neighborhood\n",
    "We'll start with John's category: Income. First, I calculated the estimated percent of citizens in each neighborhood with an income. This was insufficient, as this led to a neighborhood with 8 people being the best neighborhood, and that was unreasonable. So instead, I subtracted the margin of error from the total to get a better estimation of what percentage of the population had an income. Which you can see below."
   ]
  },
  {
   "cell_type": "code",
   "execution_count": 9,
   "metadata": {},
   "outputs": [
    {
     "data": {
      "text/html": [
       "<div>\n",
       "<style scoped>\n",
       "    .dataframe tbody tr th:only-of-type {\n",
       "        vertical-align: middle;\n",
       "    }\n",
       "\n",
       "    .dataframe tbody tr th {\n",
       "        vertical-align: top;\n",
       "    }\n",
       "\n",
       "    .dataframe thead th {\n",
       "        text-align: right;\n",
       "    }\n",
       "</style>\n",
       "<table border=\"1\" class=\"dataframe\">\n",
       "  <thead>\n",
       "    <tr style=\"text-align: right;\">\n",
       "      <th></th>\n",
       "      <th>Neighborhood</th>\n",
       "      <th>Estimate; Total:</th>\n",
       "      <th>Margin of Error; Total:</th>\n",
       "      <th>Estimate; Total: - With wage or salary income</th>\n",
       "      <th>Margin of Error; Total: - With wage or salary income</th>\n",
       "      <th>Estimate; Total: - No wage or salary income</th>\n",
       "      <th>Margin of Error; Total: - No wage or salary income</th>\n",
       "      <th>Percent with Income</th>\n",
       "      <th>Adjusted Percent with Income</th>\n",
       "    </tr>\n",
       "    <tr>\n",
       "      <th>Id</th>\n",
       "      <th></th>\n",
       "      <th></th>\n",
       "      <th></th>\n",
       "      <th></th>\n",
       "      <th></th>\n",
       "      <th></th>\n",
       "      <th></th>\n",
       "      <th></th>\n",
       "      <th></th>\n",
       "    </tr>\n",
       "  </thead>\n",
       "  <tbody>\n",
       "    <tr>\n",
       "      <th>32</th>\n",
       "      <td>Fairywood</td>\n",
       "      <td>457.0</td>\n",
       "      <td>85.000000</td>\n",
       "      <td>447.0</td>\n",
       "      <td>83.000000</td>\n",
       "      <td>10.0</td>\n",
       "      <td>16.000000</td>\n",
       "      <td>0.978118</td>\n",
       "      <td>0.796499</td>\n",
       "    </tr>\n",
       "    <tr>\n",
       "      <th>20</th>\n",
       "      <td>Central Oakland</td>\n",
       "      <td>1918.0</td>\n",
       "      <td>152.676128</td>\n",
       "      <td>1658.0</td>\n",
       "      <td>157.946193</td>\n",
       "      <td>260.0</td>\n",
       "      <td>87.028731</td>\n",
       "      <td>0.864442</td>\n",
       "      <td>0.782093</td>\n",
       "    </tr>\n",
       "    <tr>\n",
       "      <th>34</th>\n",
       "      <td>Friendship</td>\n",
       "      <td>1077.0</td>\n",
       "      <td>125.924581</td>\n",
       "      <td>972.0</td>\n",
       "      <td>142.688472</td>\n",
       "      <td>105.0</td>\n",
       "      <td>76.157731</td>\n",
       "      <td>0.902507</td>\n",
       "      <td>0.770020</td>\n",
       "    </tr>\n",
       "    <tr>\n",
       "      <th>10</th>\n",
       "      <td>Bloomfield</td>\n",
       "      <td>4640.0</td>\n",
       "      <td>215.506380</td>\n",
       "      <td>3789.0</td>\n",
       "      <td>223.385317</td>\n",
       "      <td>851.0</td>\n",
       "      <td>117.388245</td>\n",
       "      <td>0.816595</td>\n",
       "      <td>0.768451</td>\n",
       "    </tr>\n",
       "    <tr>\n",
       "      <th>82</th>\n",
       "      <td>Summer Hill</td>\n",
       "      <td>524.0</td>\n",
       "      <td>15.000000</td>\n",
       "      <td>439.0</td>\n",
       "      <td>38.000000</td>\n",
       "      <td>85.0</td>\n",
       "      <td>33.000000</td>\n",
       "      <td>0.837786</td>\n",
       "      <td>0.765267</td>\n",
       "    </tr>\n",
       "    <tr>\n",
       "      <th>64</th>\n",
       "      <td>Point Breeze</td>\n",
       "      <td>2348.0</td>\n",
       "      <td>149.080515</td>\n",
       "      <td>1921.0</td>\n",
       "      <td>138.054337</td>\n",
       "      <td>427.0</td>\n",
       "      <td>107.433700</td>\n",
       "      <td>0.818143</td>\n",
       "      <td>0.759347</td>\n",
       "    </tr>\n",
       "    <tr>\n",
       "      <th>69</th>\n",
       "      <td>Shadyside</td>\n",
       "      <td>7462.0</td>\n",
       "      <td>368.263493</td>\n",
       "      <td>6032.0</td>\n",
       "      <td>371.414862</td>\n",
       "      <td>1430.0</td>\n",
       "      <td>228.803409</td>\n",
       "      <td>0.808362</td>\n",
       "      <td>0.758588</td>\n",
       "    </tr>\n",
       "    <tr>\n",
       "      <th>73</th>\n",
       "      <td>South Side Flats</td>\n",
       "      <td>3452.0</td>\n",
       "      <td>285.392712</td>\n",
       "      <td>2853.0</td>\n",
       "      <td>284.534708</td>\n",
       "      <td>599.0</td>\n",
       "      <td>123.737626</td>\n",
       "      <td>0.826477</td>\n",
       "      <td>0.744051</td>\n",
       "    </tr>\n",
       "    <tr>\n",
       "      <th>90</th>\n",
       "      <td>Westwood</td>\n",
       "      <td>1514.0</td>\n",
       "      <td>118.827606</td>\n",
       "      <td>1255.0</td>\n",
       "      <td>130.873985</td>\n",
       "      <td>259.0</td>\n",
       "      <td>79.195959</td>\n",
       "      <td>0.828930</td>\n",
       "      <td>0.742487</td>\n",
       "    </tr>\n",
       "    <tr>\n",
       "      <th>81</th>\n",
       "      <td>Strip District</td>\n",
       "      <td>478.0</td>\n",
       "      <td>66.000000</td>\n",
       "      <td>417.0</td>\n",
       "      <td>72.000000</td>\n",
       "      <td>61.0</td>\n",
       "      <td>37.000000</td>\n",
       "      <td>0.872385</td>\n",
       "      <td>0.721757</td>\n",
       "    </tr>\n",
       "  </tbody>\n",
       "</table>\n",
       "</div>"
      ],
      "text/plain": [
       "        Neighborhood  Estimate; Total:  Margin of Error; Total:  \\\n",
       "Id                                                                \n",
       "32         Fairywood             457.0                85.000000   \n",
       "20   Central Oakland            1918.0               152.676128   \n",
       "34        Friendship            1077.0               125.924581   \n",
       "10        Bloomfield            4640.0               215.506380   \n",
       "82       Summer Hill             524.0                15.000000   \n",
       "64      Point Breeze            2348.0               149.080515   \n",
       "69         Shadyside            7462.0               368.263493   \n",
       "73  South Side Flats            3452.0               285.392712   \n",
       "90          Westwood            1514.0               118.827606   \n",
       "81    Strip District             478.0                66.000000   \n",
       "\n",
       "    Estimate; Total: - With wage or salary income  \\\n",
       "Id                                                  \n",
       "32                                          447.0   \n",
       "20                                         1658.0   \n",
       "34                                          972.0   \n",
       "10                                         3789.0   \n",
       "82                                          439.0   \n",
       "64                                         1921.0   \n",
       "69                                         6032.0   \n",
       "73                                         2853.0   \n",
       "90                                         1255.0   \n",
       "81                                          417.0   \n",
       "\n",
       "    Margin of Error; Total: - With wage or salary income  \\\n",
       "Id                                                         \n",
       "32                                          83.000000      \n",
       "20                                         157.946193      \n",
       "34                                         142.688472      \n",
       "10                                         223.385317      \n",
       "82                                          38.000000      \n",
       "64                                         138.054337      \n",
       "69                                         371.414862      \n",
       "73                                         284.534708      \n",
       "90                                         130.873985      \n",
       "81                                          72.000000      \n",
       "\n",
       "    Estimate; Total: - No wage or salary income  \\\n",
       "Id                                                \n",
       "32                                         10.0   \n",
       "20                                        260.0   \n",
       "34                                        105.0   \n",
       "10                                        851.0   \n",
       "82                                         85.0   \n",
       "64                                        427.0   \n",
       "69                                       1430.0   \n",
       "73                                        599.0   \n",
       "90                                        259.0   \n",
       "81                                         61.0   \n",
       "\n",
       "    Margin of Error; Total: - No wage or salary income  Percent with Income  \\\n",
       "Id                                                                            \n",
       "32                                          16.000000              0.978118   \n",
       "20                                          87.028731              0.864442   \n",
       "34                                          76.157731              0.902507   \n",
       "10                                         117.388245              0.816595   \n",
       "82                                          33.000000              0.837786   \n",
       "64                                         107.433700              0.818143   \n",
       "69                                         228.803409              0.808362   \n",
       "73                                         123.737626              0.826477   \n",
       "90                                          79.195959              0.828930   \n",
       "81                                          37.000000              0.872385   \n",
       "\n",
       "    Adjusted Percent with Income  \n",
       "Id                                \n",
       "32                      0.796499  \n",
       "20                      0.782093  \n",
       "34                      0.770020  \n",
       "10                      0.768451  \n",
       "82                      0.765267  \n",
       "64                      0.759347  \n",
       "69                      0.758588  \n",
       "73                      0.744051  \n",
       "90                      0.742487  \n",
       "81                      0.721757  "
      ]
     },
     "execution_count": 9,
     "metadata": {},
     "output_type": "execute_result"
    }
   ],
   "source": [
    "import pandas as pd\n",
    "data = pd.read_csv(\"https://data.wprdc.org/dataset/c6265ffb-c86e-4a2c-870b-1aaa0772c449/resource/14abb000-d066-4728-8ffa-227883d6c331/download/wage-or-salary-income-in-the-past-12-months-for-households.csv\",\n",
    "                  index_col='Id')\n",
    "percs = [0.0]*len(data.index)\n",
    "i = 0\n",
    "#iterate through the rows\n",
    "for item in data.iterrows():\n",
    "    try:#attempt to do the division\n",
    "        percent = item[1][3]/item[1][1]\n",
    "    except:#any errors will result in an assumed 0%\n",
    "        percent = 0.0\n",
    "    percs[i]=percent\n",
    "    i+=1\n",
    "data['Percent with Income'] = percs\n",
    "data['Adjusted Percent with Income']=data['Estimate; Total: - With wage or salary income'].sub(data['Margin of Error; Total: - With wage or salary income']).div(data['Estimate; Total:'])\n",
    "data =data.sort_values('Adjusted Percent with Income', ascending = False)\n",
    "data.head(10)"
   ]
  },
  {
   "cell_type": "markdown",
   "metadata": {},
   "source": [
    "At this point, it's fairly easy to see which neighborhoods are best, but to make it even easier:"
   ]
  },
  {
   "cell_type": "code",
   "execution_count": 10,
   "metadata": {},
   "outputs": [
    {
     "data": {
      "text/plain": [
       "(0.6, 1.0)"
      ]
     },
     "execution_count": 10,
     "metadata": {},
     "output_type": "execute_result"
    },
    {
     "data": {
      "image/png": "[encoded data removed]",
      "text/plain": [
       "<Figure size 432x288 with 1 Axes>"
      ]
     },
     "metadata": {
      "needs_background": "light"
     },
     "output_type": "display_data"
    }
   ],
   "source": [
    "top10=pd.DataFrame(columns = ['Adjusted Percent with Income','Percent with Income'], index =['Fairywood','Central Oakland','Friendship','Bloomfield','Summer Hill','Point Breeze','Shadyside','South Side Flats','Westwood','Strip District',    ])\n",
    "top10['Adjusted Percent with Income'] = [0.796499,0.782093,0.770020,0.768541,0.765267,0.759347,0.758588,0.744051,0.742487,0.721757]\n",
    "top10['Percent with Income']= [0.978118,0.864442,0.902507,0.816595,0.837786,0.818143,0.808362,0.826477,0.828930,0.872385]\n",
    "top10.plot(kind = 'bar').set_ylim(0.6,1.0)"
   ]
  },
  {
   "cell_type": "markdown",
   "metadata": {},
   "source": [
    "This graph shows the difference between the adjusted percent with income and the raw percent with income. The raw percentages were less consistent than the adjusted percentages, and these were the top 10. The other neighborhoods showed even more scattered data. You can see that the difference when you account for margin of error is much less than just the flat estimates. And that seems much more reasonable to me. Every neighborhood needs a steady flow of income in order to grow and adapt to the needs of its people, and I think the best neighborhood should have the most income. It's representative of how industrious the citizens are, and I place high value on hard work and keeping a job. Furthermore, keeping a job shows responsibility and maturity which I also place high value on."
   ]
  },
  {
   "cell_type": "code",
   "execution_count": 11,
   "metadata": {},
   "outputs": [
    {
     "data": {
      "text/plain": [
       "{'Fairywood': 10,\n",
       " 'Central Oakland': 9,\n",
       " 'Friendship': 8,\n",
       " 'Bloomfield': 7,\n",
       " 'Summer Hill': 6,\n",
       " 'Point Breeze': 5,\n",
       " 'Shadyside': 4,\n",
       " 'South Side Flats': 3,\n",
       " 'Westwood': 2,\n",
       " 'Strip District': 1}"
      ]
     },
     "metadata": {},
     "output_type": "display_data"
    }
   ],
   "source": [
    "points = {}\n",
    "i=10\n",
    "for x in top10.index:\n",
    "    if x in points:\n",
    "        points[x]+=i\n",
    "    else:\n",
    "        points[x]=i\n",
    "    i-=1\n",
    "display(points)"
   ]
  },
  {
   "cell_type": "markdown",
   "metadata": {},
   "source": [
    "This code snippet adds those point values to a dictionary called points, and is the beginning of our metric. Next we have Joseph to explain his rankings for education.\n"
   ]
  },
  {
   "cell_type": "markdown",
   "metadata": {},
   "source": [
    "To begin, the dataset I used gave me data on the total educational attainment each neighborhood had. This range of educational attainment went from nursery school all the way up to a Doctorate's degree. My metric for the best neighborhood in terms of education is to find the neighborhood that has most highly educated people in it. So, I took out all the data except for the total amount of people educated, Master's degrees, and Doctorate degrees. I did this since these two degrees signify someone who has experienced a great amount education, and having the most people with these degrees in a neighborhood represents that it is a highly educated one."

   ]
  },
  {
   "cell_type": "code",
   "execution_count": 12,
   "metadata": {},
   "outputs": [
    {
     "data": {
      "text/html": [
       "<div>\n",
       "<style scoped>\n",
       "    .dataframe tbody tr th:only-of-type {\n",
       "        vertical-align: middle;\n",
       "    }\n",
       "\n",
       "    .dataframe tbody tr th {\n",
       "        vertical-align: top;\n",
       "    }\n",
       "\n",
       "    .dataframe thead th {\n",
       "        text-align: right;\n",
       "    }\n",
       "</style>\n",
       "<table border=\"1\" class=\"dataframe\">\n",
       "  <thead>\n",
       "    <tr style=\"text-align: right;\">\n",
       "      <th></th>\n",
       "      <th>Neighborhood</th>\n",
       "      <th>Total_Educated</th>\n",
       "      <th>Masters_Degree</th>\n",
       "      <th>Doctorates_Degree</th>\n",
       "    </tr>\n",
       "    <tr>\n",
       "      <th>Id</th>\n",
       "      <th></th>\n",
       "      <th></th>\n",
       "      <th></th>\n",
       "      <th></th>\n",
       "    </tr>\n",
       "  </thead>\n",
       "  <tbody>\n",
       "    <tr>\n",
       "      <th>72</th>\n",
       "      <td>South Shore</td>\n",
       "      <td>8.0</td>\n",
       "      <td>50.000000</td>\n",
       "      <td>0.000000</td>\n",
       "    </tr>\n",
       "    <tr>\n",
       "      <th>57</th>\n",
       "      <td>North Oakland</td>\n",
       "      <td>2937.0</td>\n",
       "      <td>26.081035</td>\n",
       "      <td>9.159006</td>\n",
       "    </tr>\n",
       "    <tr>\n",
       "      <th>34</th>\n",
       "      <td>Friendship</td>\n",
       "      <td>1447.0</td>\n",
       "      <td>24.879060</td>\n",
       "      <td>8.845888</td>\n",
       "    </tr>\n",
       "    <tr>\n",
       "      <th>77</th>\n",
       "      <td>Squirrel Hill North</td>\n",
       "      <td>5494.0</td>\n",
       "      <td>24.699672</td>\n",
       "      <td>14.743356</td>\n",
       "    </tr>\n",
       "    <tr>\n",
       "      <th>67</th>\n",
       "      <td>Regent Square</td>\n",
       "      <td>774.0</td>\n",
       "      <td>24.418605</td>\n",
       "      <td>10.723514</td>\n",
       "    </tr>\n",
       "    <tr>\n",
       "      <th>69</th>\n",
       "      <td>Shadyside</td>\n",
       "      <td>9414.0</td>\n",
       "      <td>24.304228</td>\n",
       "      <td>12.608880</td>\n",
       "    </tr>\n",
       "    <tr>\n",
       "      <th>78</th>\n",
       "      <td>Squirrel Hill South</td>\n",
       "      <td>11164.0</td>\n",
       "      <td>23.728054</td>\n",
       "      <td>12.459692</td>\n",
       "    </tr>\n",
       "    <tr>\n",
       "      <th>64</th>\n",
       "      <td>Point Breeze</td>\n",
       "      <td>4022.0</td>\n",
       "      <td>23.197414</td>\n",
       "      <td>13.426156</td>\n",
       "    </tr>\n",
       "    <tr>\n",
       "      <th>83</th>\n",
       "      <td>Swisshelm Park</td>\n",
       "      <td>971.0</td>\n",
       "      <td>20.288363</td>\n",
       "      <td>2.162719</td>\n",
       "    </tr>\n",
       "    <tr>\n",
       "      <th>81</th>\n",
       "      <td>Strip District</td>\n",
       "      <td>611.0</td>\n",
       "      <td>18.330606</td>\n",
       "      <td>5.728314</td>\n",

       "    </tr>\n",
       "  </tbody>\n",
       "</table>\n",
       "</div>"
      ],
      "text/plain": [
       "           Neighborhood  Total_Educated  Masters_Degree  Doctorates_Degree\n",
       "Id                                                                        \n",
       "72          South Shore             8.0       50.000000           0.000000\n",
       "57        North Oakland          2937.0       26.081035           9.159006\n",
       "34           Friendship          1447.0       24.879060           8.845888\n",
       "77  Squirrel Hill North          5494.0       24.699672          14.743356\n",
       "67        Regent Square           774.0       24.418605          10.723514\n",
       "69            Shadyside          9414.0       24.304228          12.608880\n",
       "78  Squirrel Hill South         11164.0       23.728054          12.459692\n",
       "64         Point Breeze          4022.0       23.197414          13.426156\n",
       "83       Swisshelm Park           971.0       20.288363           2.162719\n",
       "81       Strip District           611.0       18.330606           5.728314"
      ]
     },
     "execution_count": 12,
     "metadata": {},
     "output_type": "execute_result"
    }
   ],
   "source": [
    "\n",
    "data = pd.read_csv(\"https://data.wprdc.org/dataset/c6265ffb-c86e-4a2c-870b-1aaa0772c449/resource/755c09dc-be92-4787-84a6-080d84345979/download/educational-attainment-for-the-population-25-years-and-over.csv\", index_col='Id')\n",
    "most_ed = data.drop(data.columns[[1,2,3,4,5,6,7,8,9,10,11,12,13,14, 15, 16, 17, 18, 19, 20,21, 22, 23, 24, 25, 26,27, 28, 29, 30,31,32, 33, 34, 35, 36, 37, 38,39, 40,41, 42,43, 44,45,46 ,47 ,48 ,49,50]], axis = 1)\n",
    "most_ed = most_ed.drop([22]) \n",
    "#Drop index 22 (Chateau) since there are 0 people educated there.\n",
    "most_ed['Total_Educated'] = data['Estimate; Total:']\n",
    "most_ed[\"Masters_Degree\"] = data[\"Estimate; Total: - Master's degree\"]\n",
    "most_ed[\"Doctorates_Degree\"] = data[\"Estimate; Total: - Doctorate degree\"]\n",
    "most_ed['Masters_Degree'] = most_ed.apply(lambda row: (row.Masters_Degree / row.Total_Educated) * 100, axis =1)\n",
    "most_ed['Doctorates_Degree'] = most_ed.apply(lambda row: (row.Doctorates_Degree / row.Total_Educated) * 100 , axis =1)\n",
    "#create columns and assign the percentage of people that have completed each degree to the appropriate column\n",
    "\n",
    "most_ed = most_ed.sort_values(['Masters_Degree', 'Doctorates_Degree'], ascending=[False, False]).head(10)\n",
    "most_ed\n",
    "#Display the top 10 most edcauted neighborhoods, sorted on Doctorate and Master's degree percentages."
   ]
  },
  {
   "cell_type": "markdown",
   "metadata": {},
   "source": [
    "Now, you can clearly see that the most educated neighborhood when it comes to a high degree of educational attainment is Squirrel Hill North."

   ]
  },
  {
   "cell_type": "code",
   "execution_count": 13,

   "metadata": {},
   "outputs": [
    {
     "data": {
      "text/plain": [
       "{'Fairywood': 10,\n",
       " 'Central Oakland': 9,\n",
       " 'Friendship': 16,\n",
       " 'Bloomfield': 7,\n",
       " 'Summer Hill': 6,\n",
       " 'Point Breeze': 8,\n",
       " 'Shadyside': 9,\n",
       " 'South Side Flats': 3,\n",
       " 'Westwood': 2,\n",
       " 'Strip District': 2,\n",
       " 'South Shore': 10,\n",
       " 'North Oakland': 9,\n",
       " 'Squirrel Hill North': 7,\n",
       " 'Regent Square': 6,\n",
       " 'Squirrel Hill South': 4,\n",
       " 'Swisshelm Park': 2}"
      ]
     },
     "metadata": {},
     "output_type": "display_data"
    }
   ],
   "source": [
    "i=10\n",
    "for x, y in most_ed.iterrows():\n",
    "    if y['Neighborhood'] in points:\n",
    "        points[y['Neighborhood']]+=i\n",
    "    else:\n",
    "        points[y['Neighborhood']]=i\n",
    "    i-=1\n",
    "display(points)"
   ]
  },
  {
   "cell_type": "markdown",
   "metadata": {},
   "source": [
    "Now we have points totaled for the first 2 parts of the metric and Jay will explain her part of the metric on diversity\n",
    "\n",
    "This code block was taken directly from Jay's notebook since she's also not responding to my messages, so I will do my best to explain it. "
   ]
  },
  {
   "cell_type": "code",
   "execution_count": 14,
   "metadata": {},
   "outputs": [
    {
     "name": "stdout",
     "output_type": "stream",
     "text": [
      "Neighborhood: Knoxville\n",
      "White-Identifying Residents: 33.47639484978541%\n",
      "\n",
      "Neighborhood: Perry South\n",
      "White-Identifying Residents: 30.234578627280627%\n",
      "\n",
      "Neighborhood: St. Clair\n",
      "White-Identifying Residents: 38.205980066445186%\n",
      "\n",
      "Neighborhood: Terrace Village\n",
      "White-Identifying Residents: 38.198124745209945%\n",
      "\n",
      "Neighborhood: West Oakland\n",
      "White-Identifying Residents: 36.99487763232783%\n",
      "\n"
     ]
    },
    {
     "name": "stderr",
     "output_type": "stream",
     "text": [
      "<ipython-input-14-aa08122d041d>:12: RuntimeWarning: invalid value encountered in double_scalars\n",
      "  prc = ((100*stripped_df.iloc[line,2])/stripped_df.iloc[line,1])\n"
     ]
    }
   ],
   "source": [
    "#FINAL CODE BLOCK\n",
    "\n",
    "data = pd.read_csv(\"race.csv\", index_col = \"Id\")\n",
    "df = pd.DataFrame(data)\n",
    "\n",
    "# 1. Look at members who are white alone compared to total sample\n",
    "stripped_df = df[[\"Neighborhood\", \"Estimate; Total:\", \"Estimate; Total: - White alone\"]]\n",
    "                    \n",
    "# 2. Calculate percent of people who identify as White alone within total population of a neighborhood and compare across the board\n",
    "\n",
    "for line in range(len(stripped_df)):\n",
    "    prc = ((100*stripped_df.iloc[line,2])/stripped_df.iloc[line,1])\n",
    "    if prc > 30 and prc < 45: # 3. pulls out neighboods with 30% > percentages > 45% to represent most diverse ones\n",
    "        print (\"Neighborhood: \" + stripped_df.iloc[line,0])\n",
    "        print (\"White-Identifying Residents: \" + str(prc) + \"%\")\n",
    "        print ()\n",
    "        \n",
    "#4. The winner pf best neighborhood from a diversity lens would be Terrace Village because it is the most median value. The neighborhoods that fit this metric for diversity criteria will be cross referenced with the top winners from the economic and educational metrics.\n",
    "#Knoxville, Perry South, St. Clair, Terrace Village, West Oakland"
   ]
  },
  {
   "cell_type": "markdown",
   "metadata": {},
   "source": [
    "First she reads in her dataset, strips it down to the neighborhoods, the population in each neighborhood, and the the total number of people identifying solely 'White'. She then simply output the neighborhoods that contained a percentage of white-identifying residents between 30% and 45%. This leads to her only 5 suitable neighoods being Knoxville, Perry South, St. Clair, Terrace Village, and West Oakland. I will give each of these 3 points, and her declared winner 'Terrace Village' an additional 3 points"
   ]
  },
  {
   "cell_type": "code",
   "execution_count": 15,
   "metadata": {},
   "outputs": [
    {
     "data": {
      "text/plain": [
       "{'Fairywood': 10,\n",
       " 'Central Oakland': 9,\n",
       " 'Friendship': 16,\n",
       " 'Bloomfield': 7,\n",
       " 'Summer Hill': 6,\n",
       " 'Point Breeze': 8,\n",
       " 'Shadyside': 9,\n",
       " 'South Side Flats': 3,\n",
       " 'Westwood': 2,\n",
       " 'Strip District': 2,\n",
       " 'South Shore': 10,\n",
       " 'North Oakland': 9,\n",
       " 'Squirrel Hill North': 7,\n",
       " 'Regent Square': 6,\n",
       " 'Squirrel Hill South': 4,\n",
       " 'Swisshelm Park': 2,\n",
       " 'Knoxville': 3,\n",
       " 'Perry South': 3,\n",
       " 'St. Clair': 3,\n",
       " 'Terrace Village': 6,\n",
       " 'West Oakland': 3}"
      ]
     },
     "metadata": {},
     "output_type": "display_data"
    }
   ],
   "source": [
    "for x in ['Knoxville', 'Perry South', 'St. Clair', 'Terrace Village', 'West Oakland']:\n",
    "    if x in points:\n",
    "        points[x]+=3 \n",
    "    else:\n",
    "        points[x]=3\n",
    "points['Terrace Village']+=3\n",
    "display(points)"
   ]
  },
  {
   "cell_type": "markdown",
   "metadata": {},
   "source": [
    "# Conclusion\n",
    "\n",
    "It's clear to see that we have a tie between Bloomfield and Shadyside, both of which got 13 points. I'm completely for this since I'm actually going to be renting an apartment in Shadyside. I've heard a lot of good things about Shadyside from other college students as well as my family. And I'm glad to see it got good points for education and income. It makes a lot of sense, seeing as its a popular spot for college students. I figure that once college students graduate, some of them will stay in that area for a while to build up finances before moving elsewhere. This would also explain why no single neighborhood took a huge lead over the others. Since we chose such a broad metric, you wouldn't expect any individual neighborhood to excell in every aspect. \n",
    "\n",
    "Thank you for your time!\n",
    "\n",
    "John Pepling"
   ]
  },
  {
   "cell_type": "markdown",
   "metadata": {},
   "source": [
    "From our metric data, we can see that Friendship is the best neighborhood with a total of 16 points. This does not suprise me because I think Friendship is definetely one of the nicer neighborhoods in Pittsburgh. This is different than my personal favorite neighborhood of Shadyside. The reason Shadyside is my favorite neighborhood is because of how much there is to do there. Every time I go to Shadyside, I have a good time. But now that I know that Friendship is the best neighborhood, I will have to go there more often for sure.\n",
    "\n",
    "Joey Dynoske"
   ]
  },
  {
   "cell_type": "code",
   "execution_count": null,
   "metadata": {},
   "outputs": [],
   "source": []
  }
 ],
 "metadata": {
  "kernelspec": {
   "display_name": "Python 3",
   "language": "python",
   "name": "python3"
  },
  "language_info": {
   "codemirror_mode": {
    "name": "ipython",
    "version": 3
   },
   "file_extension": ".py",
   "mimetype": "text/x-python",
   "name": "python",
   "nbconvert_exporter": "python",
   "pygments_lexer": "ipython3",
   "version": "3.8.3"
  }
 },
 "nbformat": 4,
 "nbformat_minor": 4
}
